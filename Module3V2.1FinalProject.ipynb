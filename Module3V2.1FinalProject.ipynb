{
 "cells": [
  {
   "cell_type": "markdown",
   "metadata": {},
   "source": [
    "This jupyter notebook contains the code written for the module 3 (V2.1) project covering classification models. The dataset used, 'flights.csv', contains details about US domestic flights for large air carriers during 2015. The data was originally collected and published by the U.S. Department of Transportation's (DOT) Bureau of Transportation Statistics. Weather data from 2015 was pulled using an api and was used in conjuction with flights.csv to predict whether flights were delayed leaving IAH in Houston. Delayed is defined by a departure 15 minutes or greater than the original departure time. \n",
    "\n",
    "This information will help consumers book connecting flights from IAH. "
   ]
  },
  {
   "cell_type": "code",
   "execution_count": 1,
   "metadata": {},
   "outputs": [
    {
     "name": "stdout",
     "output_type": "stream",
     "text": [
      "<class 'pandas.core.frame.DataFrame'>\n",
      "RangeIndex: 146622 entries, 0 to 146621\n",
      "Data columns (total 32 columns):\n",
      "Unnamed: 0             146622 non-null int64\n",
      "YEAR                   146622 non-null int64\n",
      "MONTH                  146622 non-null int64\n",
      "DAY                    146622 non-null int64\n",
      "DAY_OF_WEEK            146622 non-null int64\n",
      "AIRLINE                146622 non-null object\n",
      "FLIGHT_NUMBER          146622 non-null int64\n",
      "TAIL_NUMBER            146017 non-null object\n",
      "ORIGIN_AIRPORT         146622 non-null object\n",
      "DESTINATION_AIRPORT    146622 non-null object\n",
      "SCHEDULED_DEPARTURE    146622 non-null int64\n",
      "DEPARTURE_TIME         144660 non-null float64\n",
      "DEPARTURE_DELAY        144660 non-null float64\n",
      "TAXI_OUT               144528 non-null float64\n",
      "WHEELS_OFF             144528 non-null float64\n",
      "SCHEDULED_TIME         146622 non-null float64\n",
      "ELAPSED_TIME           144019 non-null float64\n",
      "AIR_TIME               144019 non-null float64\n",
      "DISTANCE               146622 non-null int64\n",
      "WHEELS_ON              144377 non-null float64\n",
      "TAXI_IN                144377 non-null float64\n",
      "SCHEDULED_ARRIVAL      146622 non-null int64\n",
      "ARRIVAL_TIME           144377 non-null float64\n",
      "ARRIVAL_DELAY          144019 non-null float64\n",
      "DIVERTED               146622 non-null int64\n",
      "CANCELLED              146622 non-null int64\n",
      "CANCELLATION_REASON    2130 non-null object\n",
      "AIR_SYSTEM_DELAY       30690 non-null float64\n",
      "SECURITY_DELAY         30690 non-null float64\n",
      "AIRLINE_DELAY          30690 non-null float64\n",
      "LATE_AIRCRAFT_DELAY    30690 non-null float64\n",
      "WEATHER_DELAY          30690 non-null float64\n",
      "dtypes: float64(16), int64(11), object(5)\n",
      "memory usage: 35.8+ MB\n"
     ]
    }
   ],
   "source": [
    "import pandas as pd\n",
    "import numpy as np\n",
    "import matplotlib.pyplot as plt\n",
    "%matplotlib inline\n",
    "import seaborn as sns\n",
    "import requests\n",
    "from datetime import datetime\n",
    "from sklearn.preprocessing import StandardScaler, OneHotEncoder\n",
    "from sklearn.neighbors import KNeighborsClassifier\n",
    "from sklearn.model_selection import train_test_split, GridSearchCV\n",
    "from sklearn.ensemble import RandomForestClassifier\n",
    "from sklearn.pipeline import Pipeline\n",
    "import xgboost as xgb\n",
    "from sklearn.metrics import accuracy_score, f1_score, recall_score, precision_score, confusion_matrix\n",
    "from xgboost import XGBClassifier\n",
    "from xgboost import plot_tree\n",
    "import itertools\n",
    "from warnings import simplefilter\n",
    "simplefilter(action='ignore', category=FutureWarning)\n",
    "\n",
    "IAH = pd.read_csv('flight_filtered.csv')\n",
    "IAH.info()"
   ]
  },
  {
   "cell_type": "markdown",
   "metadata": {},
   "source": [
    "### Adding column 'DELAYED' as a binary classifier (15+/= 'DEPARTURE_DELAY' == True)"
   ]
  },
  {
   "cell_type": "code",
   "execution_count": 3,
   "metadata": {},
   "outputs": [
    {
     "data": {
      "text/plain": [
       "30873.0"
      ]
     },
     "execution_count": 3,
     "metadata": {},
     "output_type": "execute_result"
    }
   ],
   "source": [
    "IAH.loc[IAH['DEPARTURE_DELAY'] >= 15, 'DELAYED'] = 1\n",
    "IAH.loc[IAH['DEPARTURE_DELAY'] < 15, 'DELAYED'] = 0\n",
    "#IAH.info()\n",
    "IAH['DELAYED'].sum()"
   ]
  },
  {
   "cell_type": "markdown",
   "metadata": {},
   "source": [
    "### Dropping all cancelled flights rows, dropping columns 'CANCELLED' and 'CANCELLATON_REASON'"
   ]
  },
  {
   "cell_type": "code",
   "execution_count": 4,
   "metadata": {},
   "outputs": [],
   "source": [
    "IAH['CANCELLED'].unique()\n",
    "IAH = IAH.loc[IAH['CANCELLED'] == 0].copy()\n",
    "IAH['CANCELLED'].unique()\n",
    "IAH = IAH.drop(['CANCELLED', 'CANCELLATION_REASON'], axis = 1)\n",
    "#IAH.info()"
   ]
  },
  {
   "cell_type": "markdown",
   "metadata": {},
   "source": [
    "### Removing columns that will cause data leakage (columns dependent on the classification label)"
   ]
  },
  {
   "cell_type": "code",
   "execution_count": 5,
   "metadata": {},
   "outputs": [],
   "source": [
    "IAH = IAH.drop(['DEPARTURE_DELAY', 'ARRIVAL_DELAY','AIR_SYSTEM_DELAY', 'SECURITY_DELAY', 'AIRLINE_DELAY', 'LATE_AIRCRAFT_DELAY', 'WEATHER_DELAY'], axis = 1).copy()\n",
    "#IAH.info()"
   ]
  },
  {
   "cell_type": "markdown",
   "metadata": {},
   "source": [
    "### Find all nan values (473 rows)\n",
    "### All columns containing nan values will not affect departure delays because they are all statistics derived after takeoff\n",
    "### Remove all rows containing nan values"
   ]
  },
  {
   "cell_type": "code",
   "execution_count": 6,
   "metadata": {},
   "outputs": [],
   "source": [
    "#print(IAH.isnull().sum())\n",
    "IAH = IAH.dropna().copy()\n",
    "#print(IAH.isnull().sum())\n",
    "#print(IAH.info())"
   ]
  },
  {
   "cell_type": "markdown",
   "metadata": {},
   "source": [
    "### Binning departure time by hours (rounding down)\n",
    "\n",
    "### Do I want to do better form of binning?"
   ]
  },
  {
   "cell_type": "code",
   "execution_count": 7,
   "metadata": {},
   "outputs": [
    {
     "data": {
      "text/html": [
       "<div>\n",
       "<style scoped>\n",
       "    .dataframe tbody tr th:only-of-type {\n",
       "        vertical-align: middle;\n",
       "    }\n",
       "\n",
       "    .dataframe tbody tr th {\n",
       "        vertical-align: top;\n",
       "    }\n",
       "\n",
       "    .dataframe thead th {\n",
       "        text-align: right;\n",
       "    }\n",
       "</style>\n",
       "<table border=\"1\" class=\"dataframe\">\n",
       "  <thead>\n",
       "    <tr style=\"text-align: right;\">\n",
       "      <th></th>\n",
       "      <th>YEAR</th>\n",
       "      <th>MONTH</th>\n",
       "      <th>DAY</th>\n",
       "      <th>DAY_OF_WEEK</th>\n",
       "      <th>AIRLINE</th>\n",
       "      <th>FLIGHT_NUMBER</th>\n",
       "      <th>TAIL_NUMBER</th>\n",
       "      <th>ORIGIN_AIRPORT</th>\n",
       "      <th>DESTINATION_AIRPORT</th>\n",
       "      <th>SCHEDULED_DEPARTURE</th>\n",
       "      <th>...</th>\n",
       "      <th>ELAPSED_TIME</th>\n",
       "      <th>AIR_TIME</th>\n",
       "      <th>DISTANCE</th>\n",
       "      <th>WHEELS_ON</th>\n",
       "      <th>TAXI_IN</th>\n",
       "      <th>SCHEDULED_ARRIVAL</th>\n",
       "      <th>ARRIVAL_TIME</th>\n",
       "      <th>DIVERTED</th>\n",
       "      <th>DELAYED</th>\n",
       "      <th>DEPART_TIME_BIN</th>\n",
       "    </tr>\n",
       "  </thead>\n",
       "  <tbody>\n",
       "    <tr>\n",
       "      <td>74</td>\n",
       "      <td>2015</td>\n",
       "      <td>1</td>\n",
       "      <td>1</td>\n",
       "      <td>4</td>\n",
       "      <td>AA</td>\n",
       "      <td>89</td>\n",
       "      <td>N3KVAA</td>\n",
       "      <td>IAH</td>\n",
       "      <td>MIA</td>\n",
       "      <td>520</td>\n",
       "      <td>...</td>\n",
       "      <td>137.0</td>\n",
       "      <td>111.0</td>\n",
       "      <td>964</td>\n",
       "      <td>928.0</td>\n",
       "      <td>7.0</td>\n",
       "      <td>841</td>\n",
       "      <td>935.0</td>\n",
       "      <td>0</td>\n",
       "      <td>1.0</td>\n",
       "      <td>500</td>\n",
       "    </tr>\n",
       "    <tr>\n",
       "      <td>200</td>\n",
       "      <td>2015</td>\n",
       "      <td>1</td>\n",
       "      <td>1</td>\n",
       "      <td>4</td>\n",
       "      <td>US</td>\n",
       "      <td>410</td>\n",
       "      <td>N765US</td>\n",
       "      <td>IAH</td>\n",
       "      <td>PHX</td>\n",
       "      <td>600</td>\n",
       "      <td>...</td>\n",
       "      <td>173.0</td>\n",
       "      <td>155.0</td>\n",
       "      <td>1009</td>\n",
       "      <td>742.0</td>\n",
       "      <td>4.0</td>\n",
       "      <td>750</td>\n",
       "      <td>746.0</td>\n",
       "      <td>0</td>\n",
       "      <td>0.0</td>\n",
       "      <td>600</td>\n",
       "    </tr>\n",
       "    <tr>\n",
       "      <td>300</td>\n",
       "      <td>2015</td>\n",
       "      <td>1</td>\n",
       "      <td>1</td>\n",
       "      <td>4</td>\n",
       "      <td>F9</td>\n",
       "      <td>1057</td>\n",
       "      <td>N919FR</td>\n",
       "      <td>IAH</td>\n",
       "      <td>SFO</td>\n",
       "      <td>600</td>\n",
       "      <td>...</td>\n",
       "      <td>262.0</td>\n",
       "      <td>237.0</td>\n",
       "      <td>1635</td>\n",
       "      <td>805.0</td>\n",
       "      <td>9.0</td>\n",
       "      <td>820</td>\n",
       "      <td>814.0</td>\n",
       "      <td>0</td>\n",
       "      <td>0.0</td>\n",
       "      <td>600</td>\n",
       "    </tr>\n",
       "    <tr>\n",
       "      <td>547</td>\n",
       "      <td>2015</td>\n",
       "      <td>1</td>\n",
       "      <td>1</td>\n",
       "      <td>4</td>\n",
       "      <td>NK</td>\n",
       "      <td>200</td>\n",
       "      <td>N530NK</td>\n",
       "      <td>IAH</td>\n",
       "      <td>ORD</td>\n",
       "      <td>623</td>\n",
       "      <td>...</td>\n",
       "      <td>140.0</td>\n",
       "      <td>115.0</td>\n",
       "      <td>925</td>\n",
       "      <td>830.0</td>\n",
       "      <td>10.0</td>\n",
       "      <td>855</td>\n",
       "      <td>840.0</td>\n",
       "      <td>0</td>\n",
       "      <td>0.0</td>\n",
       "      <td>600</td>\n",
       "    </tr>\n",
       "    <tr>\n",
       "      <td>837</td>\n",
       "      <td>2015</td>\n",
       "      <td>1</td>\n",
       "      <td>1</td>\n",
       "      <td>4</td>\n",
       "      <td>US</td>\n",
       "      <td>1961</td>\n",
       "      <td>N566UW</td>\n",
       "      <td>IAH</td>\n",
       "      <td>CLT</td>\n",
       "      <td>700</td>\n",
       "      <td>...</td>\n",
       "      <td>137.0</td>\n",
       "      <td>105.0</td>\n",
       "      <td>912</td>\n",
       "      <td>953.0</td>\n",
       "      <td>20.0</td>\n",
       "      <td>1022</td>\n",
       "      <td>1013.0</td>\n",
       "      <td>0</td>\n",
       "      <td>0.0</td>\n",
       "      <td>700</td>\n",
       "    </tr>\n",
       "  </tbody>\n",
       "</table>\n",
       "<p>5 rows × 24 columns</p>\n",
       "</div>"
      ],
      "text/plain": [
       "     YEAR  MONTH  DAY  DAY_OF_WEEK AIRLINE  FLIGHT_NUMBER TAIL_NUMBER  \\\n",
       "74   2015      1    1            4      AA             89      N3KVAA   \n",
       "200  2015      1    1            4      US            410      N765US   \n",
       "300  2015      1    1            4      F9           1057      N919FR   \n",
       "547  2015      1    1            4      NK            200      N530NK   \n",
       "837  2015      1    1            4      US           1961      N566UW   \n",
       "\n",
       "    ORIGIN_AIRPORT DESTINATION_AIRPORT  SCHEDULED_DEPARTURE  ...  \\\n",
       "74             IAH                 MIA                  520  ...   \n",
       "200            IAH                 PHX                  600  ...   \n",
       "300            IAH                 SFO                  600  ...   \n",
       "547            IAH                 ORD                  623  ...   \n",
       "837            IAH                 CLT                  700  ...   \n",
       "\n",
       "     ELAPSED_TIME  AIR_TIME  DISTANCE  WHEELS_ON  TAXI_IN  SCHEDULED_ARRIVAL  \\\n",
       "74          137.0     111.0       964      928.0      7.0                841   \n",
       "200         173.0     155.0      1009      742.0      4.0                750   \n",
       "300         262.0     237.0      1635      805.0      9.0                820   \n",
       "547         140.0     115.0       925      830.0     10.0                855   \n",
       "837         137.0     105.0       912      953.0     20.0               1022   \n",
       "\n",
       "     ARRIVAL_TIME  DIVERTED  DELAYED  DEPART_TIME_BIN  \n",
       "74          935.0         0      1.0              500  \n",
       "200         746.0         0      0.0              600  \n",
       "300         814.0         0      0.0              600  \n",
       "547         840.0         0      0.0              600  \n",
       "837        1013.0         0      0.0              700  \n",
       "\n",
       "[5 rows x 24 columns]"
      ]
     },
     "execution_count": 7,
     "metadata": {},
     "output_type": "execute_result"
    }
   ],
   "source": [
    "IAH['DEPART_TIME_BIN'] = np.floor(IAH['SCHEDULED_DEPARTURE']/100)*100\n",
    "IAH['DEPART_TIME_BIN'] = IAH['DEPART_TIME_BIN'].astype(int)\n",
    "IAH.head()"
   ]
  },
  {
   "cell_type": "markdown",
   "metadata": {},
   "source": [
    "### API calls for every day of 2015, for weather at every hour, at IAH, saving as CSV"
   ]
  },
  {
   "cell_type": "code",
   "execution_count": 8,
   "metadata": {},
   "outputs": [],
   "source": [
    "# days_df = IAH[['MONTH', 'DAY', 'YEAR']].copy()\n",
    "# days_df = days_df.drop_duplicates()\n",
    "# days_df = days_df.reset_index(drop = True)\n",
    "# days_df['DATE_FORMAT'] = pd.to_datetime((days_df.YEAR*10000+days_df.MONTH*100+days_df.DAY).apply(str),format='%Y%m%d')\n",
    "# date_series = days_df['DATE_FORMAT']\n",
    "# days_df.head()\n",
    "\n",
    "# for date in date_series:\n",
    "#     date_string = 'T'.join(str(date).split(' '))\n",
    "#     print(date_string)\n",
    "#     response = requests.get('https://api.darksky.net/forecast/6faf9a5452b99be192c9cf383956da1b/29.9804989,-95.3396578,' + date_string)\n",
    "#     weather_dict = response.json()\n",
    "#     hourly = weather_dict['hourly']['data']\n",
    "#     hourly_weather_per_day = pd.DataFrame(hourly)\n",
    "#     if date_series[0] == date:\n",
    "#         year_of_hourly_weather = pd.DataFrame(hourly_weather_per_day)\n",
    "#     else:   \n",
    "#         year_of_hourly_weather = year_of_hourly_weather.append(hourly_weather_per_day)\n",
    "\n",
    "# year_of_hourly_weather.to_csv('weather_2015_raw.csv')\n",
    "\n",
    "\n",
    "\n",
    "# # commenting out to not re run"
   ]
  },
  {
   "cell_type": "markdown",
   "metadata": {},
   "source": [
    "### converting the weather csv file to a dataframe and cleaning the data"
   ]
  },
  {
   "cell_type": "code",
   "execution_count": 9,
   "metadata": {},
   "outputs": [
    {
     "name": "stdout",
     "output_type": "stream",
     "text": [
      "<class 'pandas.core.frame.DataFrame'>\n",
      "RangeIndex: 8016 entries, 0 to 8015\n",
      "Data columns (total 19 columns):\n",
      "Unnamed: 0             8016 non-null int64\n",
      "apparentTemperature    8016 non-null float64\n",
      "cloudCover             8016 non-null float64\n",
      "dewPoint               8016 non-null float64\n",
      "humidity               8016 non-null float64\n",
      "icon                   8016 non-null object\n",
      "precipAccumulation     2 non-null float64\n",
      "precipIntensity        8016 non-null float64\n",
      "precipProbability      8016 non-null float64\n",
      "precipType             1818 non-null object\n",
      "pressure               8016 non-null float64\n",
      "summary                8016 non-null object\n",
      "temperature            8016 non-null float64\n",
      "time                   8016 non-null int64\n",
      "uvIndex                8016 non-null int64\n",
      "visibility             8016 non-null float64\n",
      "windBearing            8003 non-null float64\n",
      "windGust               8006 non-null float64\n",
      "windSpeed              8016 non-null float64\n",
      "dtypes: float64(13), int64(3), object(3)\n",
      "memory usage: 1.2+ MB\n"
     ]
    }
   ],
   "source": [
    "# conferting csv file to dataframe\n",
    "year_of_hourly_weather = pd.read_csv('weather_2015_raw.csv')\n",
    "year_of_hourly_weather.info()\n",
    "\n",
    "# dropping unnecessary columns\n",
    "year_of_hourly_weather = year_of_hourly_weather.drop(['Unnamed: 0', 'precipType'], axis = 1)\n",
    "\n",
    "# checking for and correcting all null values\n",
    "# if precipAccumulation = nan, set equal to zero\n",
    "# if windGust = nan, set equal to windSpeed\n",
    "# how: locate rows where windGust is nan, pull values from windGust column. Set those values equal to windSpeed where windGust equaled nan. \n",
    "# if windBearing = nan, set equal to zero\n",
    "\n",
    "#print(year_of_hourly_weather.isnull().sum())\n",
    "year_of_hourly_weather['precipAccumulation'].fillna(0, inplace = True)\n",
    "year_of_hourly_weather.loc[year_of_hourly_weather['windGust'].isna(), 'windGust'] = year_of_hourly_weather.loc[year_of_hourly_weather['windGust'].isna(), 'windSpeed']\n",
    "year_of_hourly_weather = year_of_hourly_weather.fillna(0)\n",
    "#print(year_of_hourly_weather.isnull().sum())"
   ]
  },
  {
   "cell_type": "markdown",
   "metadata": {},
   "source": [
    "### saving clean data to a new csv"
   ]
  },
  {
   "cell_type": "code",
   "execution_count": 10,
   "metadata": {},
   "outputs": [],
   "source": [
    "# year_of_hourly_weather.to_csv('clean_IAH_weather.csv')\n",
    "\n",
    "# # commenting out to not re run"
   ]
  },
  {
   "cell_type": "markdown",
   "metadata": {},
   "source": [
    "### converting EPOCH time to datetime"
   ]
  },
  {
   "cell_type": "code",
   "execution_count": 11,
   "metadata": {},
   "outputs": [
    {
     "data": {
      "text/html": [
       "<div>\n",
       "<style scoped>\n",
       "    .dataframe tbody tr th:only-of-type {\n",
       "        vertical-align: middle;\n",
       "    }\n",
       "\n",
       "    .dataframe tbody tr th {\n",
       "        vertical-align: top;\n",
       "    }\n",
       "\n",
       "    .dataframe thead th {\n",
       "        text-align: right;\n",
       "    }\n",
       "</style>\n",
       "<table border=\"1\" class=\"dataframe\">\n",
       "  <thead>\n",
       "    <tr style=\"text-align: right;\">\n",
       "      <th></th>\n",
       "      <th>apparentTemperature</th>\n",
       "      <th>cloudCover</th>\n",
       "      <th>dewPoint</th>\n",
       "      <th>humidity</th>\n",
       "      <th>icon</th>\n",
       "      <th>precipAccumulation</th>\n",
       "      <th>precipIntensity</th>\n",
       "      <th>precipProbability</th>\n",
       "      <th>pressure</th>\n",
       "      <th>summary</th>\n",
       "      <th>temperature</th>\n",
       "      <th>time</th>\n",
       "      <th>uvIndex</th>\n",
       "      <th>visibility</th>\n",
       "      <th>windBearing</th>\n",
       "      <th>windGust</th>\n",
       "      <th>windSpeed</th>\n",
       "      <th>DATETIME</th>\n",
       "    </tr>\n",
       "  </thead>\n",
       "  <tbody>\n",
       "    <tr>\n",
       "      <td>0</td>\n",
       "      <td>39.74</td>\n",
       "      <td>1.0</td>\n",
       "      <td>34.83</td>\n",
       "      <td>0.71</td>\n",
       "      <td>cloudy</td>\n",
       "      <td>0.0</td>\n",
       "      <td>0.0000</td>\n",
       "      <td>0.00</td>\n",
       "      <td>1027.8</td>\n",
       "      <td>Overcast</td>\n",
       "      <td>43.61</td>\n",
       "      <td>1420092000</td>\n",
       "      <td>0</td>\n",
       "      <td>9.997</td>\n",
       "      <td>39.0</td>\n",
       "      <td>6.71</td>\n",
       "      <td>6.54</td>\n",
       "      <td>2015-01-01 06:00:00</td>\n",
       "    </tr>\n",
       "    <tr>\n",
       "      <td>1</td>\n",
       "      <td>41.03</td>\n",
       "      <td>1.0</td>\n",
       "      <td>34.85</td>\n",
       "      <td>0.71</td>\n",
       "      <td>cloudy</td>\n",
       "      <td>0.0</td>\n",
       "      <td>0.0000</td>\n",
       "      <td>0.00</td>\n",
       "      <td>1027.4</td>\n",
       "      <td>Overcast</td>\n",
       "      <td>43.65</td>\n",
       "      <td>1420095600</td>\n",
       "      <td>0</td>\n",
       "      <td>9.997</td>\n",
       "      <td>31.0</td>\n",
       "      <td>6.04</td>\n",
       "      <td>4.63</td>\n",
       "      <td>2015-01-01 07:00:00</td>\n",
       "    </tr>\n",
       "    <tr>\n",
       "      <td>2</td>\n",
       "      <td>40.60</td>\n",
       "      <td>1.0</td>\n",
       "      <td>36.05</td>\n",
       "      <td>0.77</td>\n",
       "      <td>rain</td>\n",
       "      <td>0.0</td>\n",
       "      <td>0.0069</td>\n",
       "      <td>0.68</td>\n",
       "      <td>1026.8</td>\n",
       "      <td>Drizzle</td>\n",
       "      <td>42.93</td>\n",
       "      <td>1420099200</td>\n",
       "      <td>0</td>\n",
       "      <td>9.976</td>\n",
       "      <td>30.0</td>\n",
       "      <td>4.34</td>\n",
       "      <td>4.11</td>\n",
       "      <td>2015-01-01 08:00:00</td>\n",
       "    </tr>\n",
       "    <tr>\n",
       "      <td>3</td>\n",
       "      <td>39.49</td>\n",
       "      <td>1.0</td>\n",
       "      <td>35.77</td>\n",
       "      <td>0.76</td>\n",
       "      <td>cloudy</td>\n",
       "      <td>0.0</td>\n",
       "      <td>0.0012</td>\n",
       "      <td>0.14</td>\n",
       "      <td>1026.1</td>\n",
       "      <td>Overcast</td>\n",
       "      <td>42.86</td>\n",
       "      <td>1420102800</td>\n",
       "      <td>0</td>\n",
       "      <td>9.997</td>\n",
       "      <td>40.0</td>\n",
       "      <td>5.49</td>\n",
       "      <td>5.49</td>\n",
       "      <td>2015-01-01 09:00:00</td>\n",
       "    </tr>\n",
       "    <tr>\n",
       "      <td>4</td>\n",
       "      <td>38.29</td>\n",
       "      <td>1.0</td>\n",
       "      <td>35.73</td>\n",
       "      <td>0.77</td>\n",
       "      <td>cloudy</td>\n",
       "      <td>0.0</td>\n",
       "      <td>0.0005</td>\n",
       "      <td>0.13</td>\n",
       "      <td>1025.2</td>\n",
       "      <td>Overcast</td>\n",
       "      <td>42.46</td>\n",
       "      <td>1420106400</td>\n",
       "      <td>0</td>\n",
       "      <td>9.997</td>\n",
       "      <td>21.0</td>\n",
       "      <td>6.65</td>\n",
       "      <td>6.65</td>\n",
       "      <td>2015-01-01 10:00:00</td>\n",
       "    </tr>\n",
       "  </tbody>\n",
       "</table>\n",
       "</div>"
      ],
      "text/plain": [
       "   apparentTemperature  cloudCover  dewPoint  humidity    icon  \\\n",
       "0                39.74         1.0     34.83      0.71  cloudy   \n",
       "1                41.03         1.0     34.85      0.71  cloudy   \n",
       "2                40.60         1.0     36.05      0.77    rain   \n",
       "3                39.49         1.0     35.77      0.76  cloudy   \n",
       "4                38.29         1.0     35.73      0.77  cloudy   \n",
       "\n",
       "   precipAccumulation  precipIntensity  precipProbability  pressure   summary  \\\n",
       "0                 0.0           0.0000               0.00    1027.8  Overcast   \n",
       "1                 0.0           0.0000               0.00    1027.4  Overcast   \n",
       "2                 0.0           0.0069               0.68    1026.8   Drizzle   \n",
       "3                 0.0           0.0012               0.14    1026.1  Overcast   \n",
       "4                 0.0           0.0005               0.13    1025.2  Overcast   \n",
       "\n",
       "   temperature        time  uvIndex  visibility  windBearing  windGust  \\\n",
       "0        43.61  1420092000        0       9.997         39.0      6.71   \n",
       "1        43.65  1420095600        0       9.997         31.0      6.04   \n",
       "2        42.93  1420099200        0       9.976         30.0      4.34   \n",
       "3        42.86  1420102800        0       9.997         40.0      5.49   \n",
       "4        42.46  1420106400        0       9.997         21.0      6.65   \n",
       "\n",
       "   windSpeed            DATETIME  \n",
       "0       6.54 2015-01-01 06:00:00  \n",
       "1       4.63 2015-01-01 07:00:00  \n",
       "2       4.11 2015-01-01 08:00:00  \n",
       "3       5.49 2015-01-01 09:00:00  \n",
       "4       6.65 2015-01-01 10:00:00  "
      ]
     },
     "execution_count": 11,
     "metadata": {},
     "output_type": "execute_result"
    }
   ],
   "source": [
    "year_of_hourly_weather['DATETIME'] = pd.to_datetime(year_of_hourly_weather['time'], unit = 's')\n",
    "year_of_hourly_weather.head()\n"
   ]
  },
  {
   "cell_type": "markdown",
   "metadata": {},
   "source": [
    "### converting DAY/MONTH/YEAR columns in IAH to datetime"
   ]
  },
  {
   "cell_type": "code",
   "execution_count": 12,
   "metadata": {},
   "outputs": [],
   "source": [
    "IAH['DATE_FORMAT'] = pd.to_datetime((IAH.YEAR*10000+IAH.MONTH*100+IAH.DAY).apply(str),format='%Y%m%d')\n",
    "IAH['DATETIME'] = IAH['DATE_FORMAT'] + pd.to_timedelta(IAH['DEPART_TIME_BIN']/100, unit = 'h')\n",
    "# IAH.head()\n",
    "# IAH.info()"
   ]
  },
  {
   "cell_type": "markdown",
   "metadata": {},
   "source": [
    "### joining IAH and year_of_hourly_weather dataframe on datetime columns"
   ]
  },
  {
   "cell_type": "code",
   "execution_count": 13,
   "metadata": {},
   "outputs": [],
   "source": [
    "# one API call was not made, deleting that single row\n",
    "\n",
    "IAH_with_WEATHER = IAH.set_index('DATETIME').join(year_of_hourly_weather.set_index('DATETIME')).copy()\n",
    "IAH_with_WEATHER.reset_index(inplace = True)\n",
    "IAH_with_WEATHER.isnull().sum()\n",
    "IAH_with_WEATHER = IAH_with_WEATHER.dropna().copy()"
   ]
  },
  {
   "cell_type": "code",
   "execution_count": 14,
   "metadata": {},
   "outputs": [
    {
     "data": {
      "text/html": [
       "<div>\n",
       "<style scoped>\n",
       "    .dataframe tbody tr th:only-of-type {\n",
       "        vertical-align: middle;\n",
       "    }\n",
       "\n",
       "    .dataframe tbody tr th {\n",
       "        vertical-align: top;\n",
       "    }\n",
       "\n",
       "    .dataframe thead th {\n",
       "        text-align: right;\n",
       "    }\n",
       "</style>\n",
       "<table border=\"1\" class=\"dataframe\">\n",
       "  <thead>\n",
       "    <tr style=\"text-align: right;\">\n",
       "      <th></th>\n",
       "      <th>DATETIME</th>\n",
       "      <th>YEAR</th>\n",
       "      <th>MONTH</th>\n",
       "      <th>DAY</th>\n",
       "      <th>DAY_OF_WEEK</th>\n",
       "      <th>AIRLINE</th>\n",
       "      <th>FLIGHT_NUMBER</th>\n",
       "      <th>TAIL_NUMBER</th>\n",
       "      <th>ORIGIN_AIRPORT</th>\n",
       "      <th>DESTINATION_AIRPORT</th>\n",
       "      <th>...</th>\n",
       "      <th>precipProbability</th>\n",
       "      <th>pressure</th>\n",
       "      <th>summary</th>\n",
       "      <th>temperature</th>\n",
       "      <th>time</th>\n",
       "      <th>uvIndex</th>\n",
       "      <th>visibility</th>\n",
       "      <th>windBearing</th>\n",
       "      <th>windGust</th>\n",
       "      <th>windSpeed</th>\n",
       "    </tr>\n",
       "  </thead>\n",
       "  <tbody>\n",
       "    <tr>\n",
       "      <td>1</td>\n",
       "      <td>2015-01-01 06:00:00</td>\n",
       "      <td>2015</td>\n",
       "      <td>1</td>\n",
       "      <td>1</td>\n",
       "      <td>4</td>\n",
       "      <td>US</td>\n",
       "      <td>410</td>\n",
       "      <td>N765US</td>\n",
       "      <td>IAH</td>\n",
       "      <td>PHX</td>\n",
       "      <td>...</td>\n",
       "      <td>0.0</td>\n",
       "      <td>1027.8</td>\n",
       "      <td>Overcast</td>\n",
       "      <td>43.61</td>\n",
       "      <td>1.420092e+09</td>\n",
       "      <td>0.0</td>\n",
       "      <td>9.997</td>\n",
       "      <td>39.0</td>\n",
       "      <td>6.71</td>\n",
       "      <td>6.54</td>\n",
       "    </tr>\n",
       "    <tr>\n",
       "      <td>2</td>\n",
       "      <td>2015-01-01 06:00:00</td>\n",
       "      <td>2015</td>\n",
       "      <td>1</td>\n",
       "      <td>1</td>\n",
       "      <td>4</td>\n",
       "      <td>F9</td>\n",
       "      <td>1057</td>\n",
       "      <td>N919FR</td>\n",
       "      <td>IAH</td>\n",
       "      <td>SFO</td>\n",
       "      <td>...</td>\n",
       "      <td>0.0</td>\n",
       "      <td>1027.8</td>\n",
       "      <td>Overcast</td>\n",
       "      <td>43.61</td>\n",
       "      <td>1.420092e+09</td>\n",
       "      <td>0.0</td>\n",
       "      <td>9.997</td>\n",
       "      <td>39.0</td>\n",
       "      <td>6.71</td>\n",
       "      <td>6.54</td>\n",
       "    </tr>\n",
       "    <tr>\n",
       "      <td>3</td>\n",
       "      <td>2015-01-01 06:00:00</td>\n",
       "      <td>2015</td>\n",
       "      <td>1</td>\n",
       "      <td>1</td>\n",
       "      <td>4</td>\n",
       "      <td>NK</td>\n",
       "      <td>200</td>\n",
       "      <td>N530NK</td>\n",
       "      <td>IAH</td>\n",
       "      <td>ORD</td>\n",
       "      <td>...</td>\n",
       "      <td>0.0</td>\n",
       "      <td>1027.8</td>\n",
       "      <td>Overcast</td>\n",
       "      <td>43.61</td>\n",
       "      <td>1.420092e+09</td>\n",
       "      <td>0.0</td>\n",
       "      <td>9.997</td>\n",
       "      <td>39.0</td>\n",
       "      <td>6.71</td>\n",
       "      <td>6.54</td>\n",
       "    </tr>\n",
       "    <tr>\n",
       "      <td>4</td>\n",
       "      <td>2015-01-01 07:00:00</td>\n",
       "      <td>2015</td>\n",
       "      <td>1</td>\n",
       "      <td>1</td>\n",
       "      <td>4</td>\n",
       "      <td>US</td>\n",
       "      <td>1961</td>\n",
       "      <td>N566UW</td>\n",
       "      <td>IAH</td>\n",
       "      <td>CLT</td>\n",
       "      <td>...</td>\n",
       "      <td>0.0</td>\n",
       "      <td>1027.4</td>\n",
       "      <td>Overcast</td>\n",
       "      <td>43.65</td>\n",
       "      <td>1.420096e+09</td>\n",
       "      <td>0.0</td>\n",
       "      <td>9.997</td>\n",
       "      <td>31.0</td>\n",
       "      <td>6.04</td>\n",
       "      <td>4.63</td>\n",
       "    </tr>\n",
       "    <tr>\n",
       "      <td>5</td>\n",
       "      <td>2015-01-01 07:00:00</td>\n",
       "      <td>2015</td>\n",
       "      <td>1</td>\n",
       "      <td>1</td>\n",
       "      <td>4</td>\n",
       "      <td>NK</td>\n",
       "      <td>193</td>\n",
       "      <td>N502NK</td>\n",
       "      <td>IAH</td>\n",
       "      <td>LAS</td>\n",
       "      <td>...</td>\n",
       "      <td>0.0</td>\n",
       "      <td>1027.4</td>\n",
       "      <td>Overcast</td>\n",
       "      <td>43.65</td>\n",
       "      <td>1.420096e+09</td>\n",
       "      <td>0.0</td>\n",
       "      <td>9.997</td>\n",
       "      <td>31.0</td>\n",
       "      <td>6.04</td>\n",
       "      <td>4.63</td>\n",
       "    </tr>\n",
       "  </tbody>\n",
       "</table>\n",
       "<p>5 rows × 43 columns</p>\n",
       "</div>"
      ],
      "text/plain": [
       "             DATETIME  YEAR  MONTH  DAY  DAY_OF_WEEK AIRLINE  FLIGHT_NUMBER  \\\n",
       "1 2015-01-01 06:00:00  2015      1    1            4      US            410   \n",
       "2 2015-01-01 06:00:00  2015      1    1            4      F9           1057   \n",
       "3 2015-01-01 06:00:00  2015      1    1            4      NK            200   \n",
       "4 2015-01-01 07:00:00  2015      1    1            4      US           1961   \n",
       "5 2015-01-01 07:00:00  2015      1    1            4      NK            193   \n",
       "\n",
       "  TAIL_NUMBER ORIGIN_AIRPORT DESTINATION_AIRPORT  ...  precipProbability  \\\n",
       "1      N765US            IAH                 PHX  ...                0.0   \n",
       "2      N919FR            IAH                 SFO  ...                0.0   \n",
       "3      N530NK            IAH                 ORD  ...                0.0   \n",
       "4      N566UW            IAH                 CLT  ...                0.0   \n",
       "5      N502NK            IAH                 LAS  ...                0.0   \n",
       "\n",
       "   pressure   summary  temperature          time  uvIndex  visibility  \\\n",
       "1    1027.8  Overcast        43.61  1.420092e+09      0.0       9.997   \n",
       "2    1027.8  Overcast        43.61  1.420092e+09      0.0       9.997   \n",
       "3    1027.8  Overcast        43.61  1.420092e+09      0.0       9.997   \n",
       "4    1027.4  Overcast        43.65  1.420096e+09      0.0       9.997   \n",
       "5    1027.4  Overcast        43.65  1.420096e+09      0.0       9.997   \n",
       "\n",
       "   windBearing  windGust  windSpeed  \n",
       "1         39.0      6.71       6.54  \n",
       "2         39.0      6.71       6.54  \n",
       "3         39.0      6.71       6.54  \n",
       "4         31.0      6.04       4.63  \n",
       "5         31.0      6.04       4.63  \n",
       "\n",
       "[5 rows x 43 columns]"
      ]
     },
     "execution_count": 14,
     "metadata": {},
     "output_type": "execute_result"
    }
   ],
   "source": [
    "IAH_with_WEATHER.head()"
   ]
  },
  {
   "cell_type": "code",
   "execution_count": 15,
   "metadata": {},
   "outputs": [
    {
     "data": {
      "text/plain": [
       "DATETIME               6098\n",
       "YEAR                      1\n",
       "MONTH                    11\n",
       "DAY                      31\n",
       "DAY_OF_WEEK               7\n",
       "AIRLINE                  10\n",
       "FLIGHT_NUMBER          2550\n",
       "TAIL_NUMBER            2431\n",
       "ORIGIN_AIRPORT            1\n",
       "DESTINATION_AIRPORT     119\n",
       "SCHEDULED_DEPARTURE    1001\n",
       "DEPARTURE_TIME         1271\n",
       "TAXI_OUT                145\n",
       "WHEELS_OFF             1278\n",
       "SCHEDULED_TIME          273\n",
       "ELAPSED_TIME            432\n",
       "AIR_TIME                383\n",
       "DISTANCE                113\n",
       "WHEELS_ON              1364\n",
       "TAXI_IN                 109\n",
       "SCHEDULED_ARRIVAL      1137\n",
       "ARRIVAL_TIME           1365\n",
       "DIVERTED                  1\n",
       "DELAYED                   2\n",
       "DEPART_TIME_BIN          19\n",
       "DATE_FORMAT             334\n",
       "apparentTemperature    3943\n",
       "cloudCover               55\n",
       "dewPoint               3050\n",
       "humidity                 78\n",
       "icon                      7\n",
       "precipAccumulation        3\n",
       "precipIntensity         442\n",
       "precipProbability        94\n",
       "pressure                345\n",
       "summary                  22\n",
       "temperature            3612\n",
       "time                   6098\n",
       "uvIndex                  11\n",
       "visibility             1128\n",
       "windBearing             360\n",
       "windGust               1610\n",
       "windSpeed              1197\n",
       "dtype: int64"
      ]
     },
     "execution_count": 15,
     "metadata": {},
     "output_type": "execute_result"
    }
   ],
   "source": [
    "IAH_with_WEATHER.nunique()"
   ]
  },
  {
   "cell_type": "markdown",
   "metadata": {},
   "source": [
    "### dropping columns with only 1 unique value, or repeat columns"
   ]
  },
  {
   "cell_type": "code",
   "execution_count": 16,
   "metadata": {},
   "outputs": [],
   "source": [
    "IAH_with_WEATHER = IAH_with_WEATHER.drop(['YEAR', 'ORIGIN_AIRPORT', 'DIVERTED', 'DEPART_TIME_BIN'], axis = 1)"
   ]
  },
  {
   "cell_type": "markdown",
   "metadata": {},
   "source": [
    "### creating sample set to test with"
   ]
  },
  {
   "cell_type": "code",
   "execution_count": 17,
   "metadata": {},
   "outputs": [],
   "source": [
    "SAMPLE_SET = IAH_with_WEATHER #.iloc[0:10000]\n",
    "SAMPLE_SET.to_csv('SAMPLE_SET.csv')"
   ]
  },
  {
   "cell_type": "markdown",
   "metadata": {},
   "source": [
    "### train_test_split for continuous values (XGB, XGB grid, and random forest)"
   ]
  },
  {
   "cell_type": "code",
   "execution_count": 18,
   "metadata": {},
   "outputs": [],
   "source": [
    "y = SAMPLE_SET['DELAYED']\n",
    "X = SAMPLE_SET.drop(['DELAYED', 'DATETIME', 'DATE_FORMAT'], axis = 1)\n",
    "scaler = StandardScaler()\n",
    "cat_cols_list = ['summary', 'icon', 'DESTINATION_AIRPORT','TAIL_NUMBER', 'AIRLINE', 'FLIGHT_NUMBER']\n",
    "num_cols_df = X[X.columns.difference(cat_cols_list)]\n",
    "num_cols_df = pd.DataFrame(scaler.fit_transform(num_cols_df),index=num_cols_df.index, columns=num_cols_df.columns).reset_index(drop = True)\n",
    "\n",
    "\n",
    "X_train, X_test, y_train, y_test = train_test_split(num_cols_df, y, test_size = 0.25, random_state = 123)"
   ]
  },
  {
   "cell_type": "markdown",
   "metadata": {},
   "source": [
    "### XGBoost for continuous values within dataframe + param grid + confusion matrix + feature importance plot\n",
    "### param grid was optimized using a subset of 10K values "
   ]
  },
  {
   "cell_type": "code",
   "execution_count": 19,
   "metadata": {},
   "outputs": [
    {
     "name": "stdout",
     "output_type": "stream",
     "text": [
      "Training Recall Score, Default XGB:  0.6484480138919037\n",
      "Test Recall Score, Default XGB:  0.6452760574515747\n",
      "Training Precision Score, Default XGB:  0.9920302849173142\n",
      "Test Precision Score, Default XGB:  0.9898928643622398\n",
      "Training Accuracy Score, Default XGB:  0.9239165655985854\n",
      "Test Accuracy Score, Default XGB:  0.9238439105679767\n",
      "Training F1 Score, Default XGB:  0.7842591620287724\n",
      "Test F1 Score, Default XGB:  0.7812699425654117\n",
      "\n",
      "\n",
      "Grid seach found the following optimal parameters: \n",
      "learning_rate:0.8\n",
      "max_depth:2\n",
      "min_child_weight:16\n",
      "subsample:1\n",
      "\n",
      "\n",
      "Training Recall Score, XGB Grid:  0.8743650965921423\n",
      "Test Recall Score, XGB Grid:  0.8769271313743576\n",
      "Training Precision Score, XGB Grid:  0.9665514924656877\n",
      "Test Precision Score, XGB Grid:  0.9665940450254176\n",
      "Training Accuracy Score, XGB Grid:  0.9667540018331127\n",
      "Test Accuracy Score, XGB Grid:  0.96767115678378\n",
      "Training F1 Score, XGB Grid:  0.918150115104962\n",
      "Test F1 Score, XGB Grid:  0.9195799364377505\n"
     ]
    },
    {
     "data": {
      "image/png": "[encoded data removed]",
      "text/plain": [
       "<Figure size 432x288 with 2 Axes>"
      ]
     },
     "metadata": {
      "needs_background": "light"
     },
     "output_type": "display_data"
    },
    {
     "data": {
      "image/png": "[encoded data removed]",
      "text/plain": [
       "<Figure size 576x576 with 1 Axes>"
      ]
     },
     "metadata": {
      "needs_background": "light"
     },
     "output_type": "display_data"
    }
   ],
   "source": [
    "# XGB for continuous values\n",
    "\n",
    "clf_xgb = xgb.XGBClassifier()\n",
    "clf_xgb.fit(X_train, y_train)\n",
    "training_preds_xgb = clf_xgb.predict(X_train)\n",
    "test_preds_xgb = clf_xgb.predict(X_test)\n",
    "\n",
    "print('Training Recall Score, Default XGB: ', recall_score(y_train, training_preds_xgb))\n",
    "print('Test Recall Score, Default XGB: ', recall_score(y_test, test_preds_xgb))\n",
    "print('Training Precision Score, Default XGB: ', precision_score(y_train, training_preds_xgb))\n",
    "print('Test Precision Score, Default XGB: ', precision_score(y_test, test_preds_xgb))\n",
    "print('Training Accuracy Score, Default XGB: ', accuracy_score(y_train, training_preds_xgb))\n",
    "print('Test Accuracy Score, Default XGB: ', accuracy_score(y_test, test_preds_xgb))\n",
    "print('Training F1 Score, Default XGB: ', f1_score(y_train, training_preds_xgb))\n",
    "print('Test F1 Score, Default XGB: ', f1_score(y_test, test_preds_xgb))\n",
    "\n",
    "\n",
    "\n",
    "\n",
    "# XGB with paramgrid\n",
    "\n",
    "xgb_param_grid = {'learning_rate':[0.8], \n",
    "              'max_depth': [2], \n",
    "              'min_child_weight':[16], \n",
    "              'subsample':[1]}\n",
    "\n",
    "xgb_grid_clf = GridSearchCV(clf_xgb, xgb_param_grid, scoring = 'f1', cv = None, n_jobs = -1)\n",
    "xgb_grid_clf.fit(num_cols_df, y)\n",
    "xgb_best_parameters = xgb_grid_clf.best_params_\n",
    "print('\\n\\nGrid seach found the following optimal parameters: ')\n",
    "for param_name in sorted(xgb_best_parameters.keys()):\n",
    "    print('%s:%r'%(param_name, xgb_best_parameters[param_name]))\n",
    "\n",
    "training_preds_xgb_grid = xgb_grid_clf.predict(X_train)\n",
    "test_preds_xgb_grid = xgb_grid_clf.predict(X_test)\n",
    "\n",
    "\n",
    "print('\\n\\nTraining Recall Score, XGB Grid: ', recall_score(y_train, training_preds_xgb_grid))\n",
    "print('Test Recall Score, XGB Grid: ', recall_score(y_test, test_preds_xgb_grid))\n",
    "print('Training Precision Score, XGB Grid: ', precision_score(y_train, training_preds_xgb_grid))\n",
    "print('Test Precision Score, XGB Grid: ', precision_score(y_test, test_preds_xgb_grid))\n",
    "print('Training Accuracy Score, XGB Grid: ', accuracy_score(y_train, training_preds_xgb_grid))\n",
    "print('Test Accuracy Score, XGB Grid: ', accuracy_score(y_test, test_preds_xgb_grid))\n",
    "print('Training F1 Score, XGB Grid: ', f1_score(y_train, training_preds_xgb_grid))\n",
    "print('Test F1 Score, XGB Grid: ', f1_score(y_test, test_preds_xgb_grid))\n",
    "\n",
    "# confusion matrix for XGB grid parameters for continuous values\n",
    "\n",
    "cnf_matrix = confusion_matrix(y_test, test_preds_xgb_grid)\n",
    "\n",
    "ax = sns.heatmap(cnf_matrix, annot = True, cmap = 'Purples')\n",
    "ax.set_ylim([0,2])\n",
    "ax.set_xlabel('Predicted Label', fontsize = 14)\n",
    "ax.set_ylabel('True Label', fontsize = 14)\n",
    "ax.set_title('Confusion Matrix for Continuous Values from XGB Grid', fontsize = 16)\n",
    "\n",
    "\n",
    "# feature importance plot for continuous values\n",
    "\n",
    "clf_xgb.feature_importances_\n",
    "n_features = X_train.shape[1]\n",
    "plt.figure(figsize = (8,8))\n",
    "plt.barh(range(n_features), clf_xgb.feature_importances_,align = 'center', color = 'purple')\n",
    "plt.yticks(np.arange(n_features), X_train.columns.values)\n",
    "plt.xlabel('Feature Importance', fontsize = 'large')\n",
    "plt.ylabel('Feature',fontsize = 'large')\n",
    "plt.title('Feature Importance for Continuous Data from XGB Grid')\n",
    "plt.grid(zorder=0)\n",
    "plt.show()\n",
    "\n"
   ]
  },
  {
   "cell_type": "markdown",
   "metadata": {},
   "source": [
    "### Random forest for continuous values within dataframe + confusion matrix + feature importance plot"
   ]
  },
  {
   "cell_type": "code",
   "execution_count": 20,
   "metadata": {
    "scrolled": false
   },
   "outputs": [
    {
     "name": "stdout",
     "output_type": "stream",
     "text": [
      "\n",
      "\n",
      "Training Recall Score, Random Forest:  0.9871065769481224\n",
      "Test Recall Score, Random Forest:  0.763736987745421\n",
      "Training Precision Score, Random Forest:  0.999560400914366\n",
      "Test Precision Score, Random Forest:  0.9572254335260115\n",
      "Training Accuracy Score, Random Forest:  0.9971577495301491\n",
      "Test Accuracy Score, Random Forest:  0.9430079155672824\n",
      "Training F1 Score, Random Forest:  0.9932944542734203\n",
      "Test F1 Score, Random Forest:  0.8496042216358839\n"
     ]
    },
    {
     "data": {
      "image/png": "[encoded data removed]",
      "text/plain": [
       "<Figure size 432x288 with 2 Axes>"
      ]
     },
     "metadata": {
      "needs_background": "light"
     },
     "output_type": "display_data"
    },
    {
     "data": {
      "image/png": "[encoded data removed]",
      "text/plain": [
       "<Figure size 576x576 with 1 Axes>"
      ]
     },
     "metadata": {
      "needs_background": "light"
     },
     "output_type": "display_data"
    }
   ],
   "source": [
    "# Random forest for continuous values\n",
    "\n",
    "forest = RandomForestClassifier()\n",
    "forest.fit(X_train, y_train)\n",
    "training_preds_rf = forest.predict(X_train)\n",
    "test_preds_rf = forest.predict(X_test)\n",
    "\n",
    "print('\\n\\nTraining Recall Score, Random Forest: ', recall_score(y_train, training_preds_rf))\n",
    "print('Test Recall Score, Random Forest: ', recall_score(y_test, test_preds_rf))\n",
    "print('Training Precision Score, Random Forest: ', precision_score(y_train, training_preds_rf))\n",
    "print('Test Precision Score, Random Forest: ', precision_score(y_test, test_preds_rf))\n",
    "print('Training Accuracy Score, Random Forest: ', accuracy_score(y_train, training_preds_rf))\n",
    "print('Test Accuracy Score, Random Forest: ', accuracy_score(y_test, test_preds_rf))\n",
    "print('Training F1 Score, Random Forest: ', f1_score(y_train, training_preds_rf))\n",
    "print('Test F1 Score, Random Forest: ', f1_score(y_test, test_preds_rf))\n",
    "\n",
    "\n",
    "# confusion matrix for random forest continuous values \n",
    "\n",
    "cnf_matrix_rf = confusion_matrix(y_test, test_preds_rf)\n",
    "\n",
    "ax = sns.heatmap(cnf_matrix_rf, annot = True, cmap = 'Purples')\n",
    "ax.set_ylim([0,2])\n",
    "ax.set_xlabel('Predicted Label', fontsize = 14)\n",
    "ax.set_ylabel('True Label', fontsize = 14)\n",
    "ax.set_title('Confusion Matrix for Continuous Values From Random Forest', fontsize = 16)\n",
    "\n",
    "# feature importance for random forest for continuous values\n",
    "\n",
    "forest.feature_importances_\n",
    "n_features = X_train.shape[1]\n",
    "plt.figure(figsize = (8,8))\n",
    "plt.barh(range(n_features), forest.feature_importances_,align = 'center', color = 'purple')\n",
    "plt.yticks(np.arange(n_features), X_train.columns.values)\n",
    "plt.xlabel('Feature Importance', fontsize = 'large')\n",
    "plt.ylabel('Feature',fontsize = 'large')\n",
    "plt.title('Feature Importance for Continuous Values From Random Forest')\n",
    "plt.grid(zorder=0)\n",
    "plt.show()\n",
    "\n",
    "# for col,score in zip(X_train.columns,forest.feature_importances_):\n",
    "#     print(col,score)\n"
   ]
  },
  {
   "cell_type": "markdown",
   "metadata": {},
   "source": [
    "### checking for unique values within categorical columns"
   ]
  },
  {
   "cell_type": "code",
   "execution_count": 21,
   "metadata": {},
   "outputs": [
    {
     "data": {
      "text/plain": [
       "summary                  22\n",
       "icon                      7\n",
       "DESTINATION_AIRPORT     119\n",
       "TAIL_NUMBER            2431\n",
       "AIRLINE                  10\n",
       "FLIGHT_NUMBER          2550\n",
       "dtype: int64"
      ]
     },
     "execution_count": 21,
     "metadata": {},
     "output_type": "execute_result"
    }
   ],
   "source": [
    "IAH_with_WEATHER[cat_cols_list].nunique()"
   ]
  },
  {
   "cell_type": "markdown",
   "metadata": {},
   "source": [
    "### onehotencoding cat_cols_df (except tail number, flight number), and joining cat_cols_df to num_cols_df + train_test_split"
   ]
  },
  {
   "cell_type": "code",
   "execution_count": 22,
   "metadata": {},
   "outputs": [],
   "source": [
    "cat_cols_df = SAMPLE_SET[['summary', 'icon', 'DESTINATION_AIRPORT', 'AIRLINE']]\n",
    "ohe = OneHotEncoder()\n",
    "ohe.fit(cat_cols_df)\n",
    "ohe_cat_cols = ohe.transform(cat_cols_df).toarray()\n",
    "ohe_cat_cols_df = pd.DataFrame(ohe_cat_cols, columns = ohe.get_feature_names(cat_cols_df.columns))\n",
    "df_complete = num_cols_df.join(ohe_cat_cols_df)\n",
    "\n",
    "\n",
    "X_train, X_test, y_train, y_test = train_test_split(df_complete, y, test_size = 0.25,  random_state = 42)"
   ]
  },
  {
   "cell_type": "markdown",
   "metadata": {},
   "source": [
    "### XGBoost for all values + param grid + confusion matrix\n",
    "### param grid was optimized using a subset of 10K values "
   ]
  },
  {
   "cell_type": "code",
   "execution_count": 23,
   "metadata": {
    "scrolled": false
   },
   "outputs": [
    {
     "name": "stdout",
     "output_type": "stream",
     "text": [
      "Training Recall Score, Default XGB:  0.6588841722255913\n",
      "Test Recall Score, Default XGB:  0.6528256832050942\n",
      "Training Precision Score, Default XGB:  0.9876631387572236\n",
      "Test Precision Score, Default XGB:  0.9832167832167832\n",
      "Training Accuracy Score, Default XGB:  0.9253330617610843\n",
      "Test Accuracy Score, Default XGB:  0.9249826412998194\n",
      "Training F1 Score, Default XGB:  0.7904487229454101\n",
      "Test F1 Score, Default XGB:  0.7846607669616519\n",
      "\n",
      "\n",
      "Grid seach found the following optimal parameters: \n",
      "learning_rate:0.9\n",
      "max_depth:4\n",
      "min_child_weight:19\n",
      "subsample:1\n",
      "\n",
      "\n",
      "Training Recall Score, XGB Grid:  0.9773888937018106\n",
      "Test Recall Score, XGB Grid:  0.9783762271159459\n",
      "Training Precision Score, XGB Grid:  0.9896491228070176\n",
      "Test Precision Score, XGB Grid:  0.9884733949872672\n",
      "Training Accuracy Score, XGB Grid:  0.9929823262014758\n",
      "Test Accuracy Score, XGB Grid:  0.9930842938480766\n",
      "Training F1 Score, XGB Grid:  0.9834808002440832\n",
      "Test F1 Score, XGB Grid:  0.9833988932595507\n"
     ]
    },
    {
     "data": {
      "text/plain": [
       "Text(0.5, 1, 'Confusion Matrix for All Values From XGB Grid')"
      ]
     },
     "execution_count": 23,
     "metadata": {},
     "output_type": "execute_result"
    },
    {
     "data": {
      "image/png": "[encoded data removed]",
      "text/plain": [
       "<Figure size 432x288 with 2 Axes>"
      ]
     },
     "metadata": {
      "needs_background": "light"
     },
     "output_type": "display_data"
    }
   ],
   "source": [
    "# XBG for all values\n",
    "\n",
    "clf_xgb = xgb.XGBClassifier()\n",
    "clf_xgb.fit(X_train, y_train)\n",
    "training_preds_xgb = clf_xgb.predict(X_train)\n",
    "test_preds_xgb = clf_xgb.predict(X_test)\n",
    "\n",
    "print('Training Recall Score, Default XGB: ', recall_score(y_train, training_preds_xgb))\n",
    "print('Test Recall Score, Default XGB: ', recall_score(y_test, test_preds_xgb))\n",
    "print('Training Precision Score, Default XGB: ', precision_score(y_train, training_preds_xgb))\n",
    "print('Test Precision Score, Default XGB: ', precision_score(y_test, test_preds_xgb))\n",
    "print('Training Accuracy Score, Default XGB: ', accuracy_score(y_train, training_preds_xgb))\n",
    "print('Test Accuracy Score, Default XGB: ', accuracy_score(y_test, test_preds_xgb))\n",
    "print('Training F1 Score, Default XGB: ', f1_score(y_train, training_preds_xgb))\n",
    "print('Test F1 Score, Default XGB: ', f1_score(y_test, test_preds_xgb))\n",
    "\n",
    "#XGB with grid for all values\n",
    "\n",
    "xgb_param_grid = {'learning_rate':[0.9], \n",
    "              'max_depth': [4], \n",
    "              'min_child_weight':[19], \n",
    "              'subsample':[1]}\n",
    "\n",
    "xgb_grid_clf = GridSearchCV(clf_xgb, xgb_param_grid, scoring = 'accuracy', cv = None, n_jobs = -1)\n",
    "xgb_grid_clf.fit(df_complete, y)\n",
    "xgb_best_parameters = xgb_grid_clf.best_params_\n",
    "print('\\n\\nGrid seach found the following optimal parameters: ')\n",
    "for param_name in sorted(xgb_best_parameters.keys()):\n",
    "    print('%s:%r'%(param_name, xgb_best_parameters[param_name]))\n",
    "\n",
    "training_preds_xgb_grid = xgb_grid_clf.predict(X_train)\n",
    "test_preds_xgb_grid = xgb_grid_clf.predict(X_test)\n",
    "\n",
    "print('\\n\\nTraining Recall Score, XGB Grid: ', recall_score(y_train, training_preds_xgb_grid))\n",
    "print('Test Recall Score, XGB Grid: ', recall_score(y_test, test_preds_xgb_grid))\n",
    "print('Training Precision Score, XGB Grid: ', precision_score(y_train, training_preds_xgb_grid))\n",
    "print('Test Precision Score, XGB Grid: ', precision_score(y_test, test_preds_xgb_grid))\n",
    "print('Training Accuracy Score, XGB Grid: ', accuracy_score(y_train, training_preds_xgb_grid))\n",
    "print('Test Accuracy Score, XGB Grid: ', accuracy_score(y_test, test_preds_xgb_grid))\n",
    "print('Training F1 Score, XGB Grid: ', f1_score(y_train, training_preds_xgb_grid))\n",
    "print('Test F1 Score, XGB Grid: ', f1_score(y_test, test_preds_xgb_grid))\n",
    "\n",
    "\n",
    "# confusion matrix for XGB grid parameters for all values \n",
    "\n",
    "cnf_matrix = confusion_matrix(y_test, test_preds_xgb_grid)\n",
    "\n",
    "ax = sns.heatmap(cnf_matrix, annot = True, cmap = 'Purples')\n",
    "ax.set_ylim([0,2])\n",
    "ax.set_xlabel('Predicted Label', fontsize = 14)\n",
    "ax.set_ylabel('True Label', fontsize = 14)\n",
    "ax.set_title('Confusion Matrix for All Values From XGB Grid', fontsize = 16)"
   ]
  },
  {
   "cell_type": "markdown",
   "metadata": {},
   "source": [
    "### Random forest for all values + confusion matrix"
   ]
  },
  {
   "cell_type": "code",
   "execution_count": 24,
   "metadata": {},
   "outputs": [
    {
     "name": "stdout",
     "output_type": "stream",
     "text": [
      "\n",
      "\n",
      "Training Recall Score, Random Forest:  0.9666464523953912\n",
      "Test Recall Score, Random Forest:  0.5311753780843725\n",
      "Training Precision Score, Random Forest:  0.9996864220758859\n",
      "Test Precision Score, Random Forest:  0.89937106918239\n",
      "Training Accuracy Score, Random Forest:  0.99280642144927\n",
      "Test Accuracy Score, Random Forest:  0.8894042494098042\n",
      "Training F1 Score, Random Forest:  0.9828888546323415\n",
      "Test F1 Score, Random Forest:  0.6678899082568808\n"
     ]
    },
    {
     "data": {
      "text/plain": [
       "Text(0.5, 1, 'Confusion Matrix for All Values From Random Forest')"
      ]
     },
     "execution_count": 24,
     "metadata": {},
     "output_type": "execute_result"
    },
    {
     "data": {
      "image/png": "[encoded data removed]",
      "text/plain": [
       "<Figure size 432x288 with 2 Axes>"
      ]
     },
     "metadata": {
      "needs_background": "light"
     },
     "output_type": "display_data"
    }
   ],
   "source": [
    "# Random forest for all values\n",
    "\n",
    "forest = RandomForestClassifier()\n",
    "forest.fit(X_train, y_train)\n",
    "training_preds_rf = forest.predict(X_train)\n",
    "test_preds_rf = forest.predict(X_test)\n",
    "\n",
    "# print(test_preds_rf[:100])\n",
    "# print(y_test[:100])\n",
    "\n",
    "print('\\n\\nTraining Recall Score, Random Forest: ', recall_score(y_train, training_preds_rf))\n",
    "print('Test Recall Score, Random Forest: ', recall_score(y_test, test_preds_rf))\n",
    "print('Training Precision Score, Random Forest: ', precision_score(y_train, training_preds_rf))\n",
    "print('Test Precision Score, Random Forest: ', precision_score(y_test, test_preds_rf))\n",
    "print('Training Accuracy Score, Random Forest: ', accuracy_score(y_train, training_preds_rf))\n",
    "print('Test Accuracy Score, Random Forest: ', accuracy_score(y_test, test_preds_rf))\n",
    "print('Training F1 Score, Random Forest: ', f1_score(y_train, training_preds_rf))\n",
    "print('Test F1 Score, Random Forest: ', f1_score(y_test, test_preds_rf))\n",
    "\n",
    "\n",
    "# confusion matrix for random forest for all values\n",
    "\n",
    "cnf_matrix_rf = confusion_matrix(y_test, test_preds_rf)\n",
    "\n",
    "ax = sns.heatmap(cnf_matrix_rf, annot = True, cmap = 'Purples')\n",
    "ax.set_ylim([0,2])\n",
    "ax.set_xlabel('Predicted Label', fontsize = 14)\n",
    "ax.set_ylabel('True Label', fontsize = 14)\n",
    "ax.set_title('Confusion Matrix for All Values From Random Forest', fontsize = 16)\n"
   ]
  },
  {
   "cell_type": "code",
   "execution_count": 25,
   "metadata": {},
   "outputs": [
    {
     "name": "stdout",
     "output_type": "stream",
     "text": [
      "Predictions:  [0, 0, 0, 0, 0, 0, 1, 1, 0, 0]\n",
      "Actual:  [0, 0, 0, 0, 0, 0, 1, 1, 0, 0]\n"
     ]
    }
   ],
   "source": [
    "# example run, using XGBoost with grid search parameters (categorical and continuous data)\n",
    "\n",
    "example_x = X_test.iloc[0:10,:]\n",
    "example_y = y_test.iloc[0:10]\n",
    "\n",
    "\n",
    "example_pred = xgb_grid_clf.predict(example_x)\n",
    "\n",
    "print('Predictions: ', list(example_pred.astype('int')))\n",
    "print('Actual: ', list(example_y.astype('int')))"
   ]
  },
  {
   "cell_type": "markdown",
   "metadata": {},
   "source": [
    "### Findings: The XGBoost with grid search (hyperparameters optimized with subset of 10K values), using the data containing both continuous and categorical data, performed the best overall according the F1 score. "
   ]
  }
 ],
 "metadata": {
  "kernelspec": {
   "display_name": "Python 3",
   "language": "python",
   "name": "python3"
  },
  "language_info": {
   "codemirror_mode": {
    "name": "ipython",
    "version": 3
   },
   "file_extension": ".py",
   "mimetype": "text/x-python",
   "name": "python",
   "nbconvert_exporter": "python",
   "pygments_lexer": "ipython3",
   "version": "3.7.4"
  }
 },
 "nbformat": 4,
 "nbformat_minor": 2
}
