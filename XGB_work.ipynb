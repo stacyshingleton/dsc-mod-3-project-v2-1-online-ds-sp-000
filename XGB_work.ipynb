{
 "cells": [
  {
   "cell_type": "code",
   "execution_count": 1,
   "metadata": {},
   "outputs": [],
   "source": [
    "import pandas as pd\n",
    "import numpy as np\n",
    "import matplotlib.pyplot as plt\n",
    "%matplotlib inline\n",
    "import seaborn as sns\n",
    "import requests\n",
    "from datetime import datetime\n",
    "from sklearn.preprocessing import StandardScaler, OneHotEncoder\n",
    "from sklearn.neighbors import KNeighborsClassifier\n",
    "from sklearn.model_selection import train_test_split, GridSearchCV\n",
    "from sklearn.ensemble import RandomForestClassifier\n",
    "from sklearn.pipeline import Pipeline\n",
    "import xgboost as xgb\n",
    "from sklearn.metrics import accuracy_score, f1_score, recall_score, precision_score\n",
    "from xgboost import XGBClassifier\n",
    "from xgboost import plot_tree\n"
   ]
  },
  {
   "cell_type": "code",
   "execution_count": 2,
   "metadata": {},
   "outputs": [
    {
     "name": "stdout",
     "output_type": "stream",
     "text": [
      "<class 'pandas.core.frame.DataFrame'>\n",
      "RangeIndex: 1000 entries, 0 to 999\n",
      "Data columns (total 41 columns):\n",
      "Unnamed: 0             1000 non-null int64\n",
      "DATETIME               1000 non-null object\n",
      "MONTH                  1000 non-null int64\n",
      "DAY                    1000 non-null int64\n",
      "DAY_OF_WEEK            1000 non-null int64\n",
      "AIRLINE                1000 non-null object\n",
      "FLIGHT_NUMBER          1000 non-null int64\n",
      "TAIL_NUMBER            1000 non-null object\n",
      "DESTINATION_AIRPORT    1000 non-null object\n",
      "SCHEDULED_DEPARTURE    1000 non-null int64\n",
      "DEPARTURE_TIME         1000 non-null float64\n",
      "TAXI_OUT               1000 non-null float64\n",
      "WHEELS_OFF             1000 non-null float64\n",
      "SCHEDULED_TIME         1000 non-null float64\n",
      "ELAPSED_TIME           1000 non-null float64\n",
      "AIR_TIME               1000 non-null float64\n",
      "DISTANCE               1000 non-null int64\n",
      "WHEELS_ON              1000 non-null float64\n",
      "TAXI_IN                1000 non-null float64\n",
      "SCHEDULED_ARRIVAL      1000 non-null int64\n",
      "ARRIVAL_TIME           1000 non-null float64\n",
      "DELAYED                1000 non-null float64\n",
      "DEPART_TIME_BIN        1000 non-null int64\n",
      "DATE_FORMAT            1000 non-null object\n",
      "apparentTemperature    1000 non-null float64\n",
      "cloudCover             1000 non-null float64\n",
      "dewPoint               1000 non-null float64\n",
      "humidity               1000 non-null float64\n",
      "icon                   1000 non-null object\n",
      "precipAccumulation     1000 non-null float64\n",
      "precipIntensity        1000 non-null float64\n",
      "precipProbability      1000 non-null float64\n",
      "pressure               1000 non-null float64\n",
      "summary                1000 non-null object\n",
      "temperature            1000 non-null float64\n",
      "time                   1000 non-null float64\n",
      "uvIndex                1000 non-null float64\n",
      "visibility             1000 non-null float64\n",
      "windBearing            1000 non-null float64\n",
      "windGust               1000 non-null float64\n",
      "windSpeed              1000 non-null float64\n",
      "dtypes: float64(25), int64(9), object(7)\n",
      "memory usage: 320.4+ KB\n"
     ]
    }
   ],
   "source": [
    "SAMPLE_SET = pd.read_csv('SAMPLE_SET.csv')\n",
    "SAMPLE_SET = SAMPLE_SET.iloc[0:1000].copy()\n",
    "SAMPLE_SET.info()"
   ]
  },
  {
   "cell_type": "code",
   "execution_count": 3,
   "metadata": {},
   "outputs": [],
   "source": [
    "# train test split for only numerical columns (XGB and random forest)\n",
    "\n",
    "y = SAMPLE_SET['DELAYED']\n",
    "X = SAMPLE_SET.drop(['DELAYED', 'DATETIME', 'DATE_FORMAT', 'Unnamed: 0'], axis = 1)\n",
    "scaler = StandardScaler()\n",
    "cat_cols_list = ['summary', 'icon', 'DESTINATION_AIRPORT','TAIL_NUMBER', 'AIRLINE']\n",
    "num_cols_df = X[X.columns.difference(cat_cols_list)]\n",
    "num_cols_df = pd.DataFrame(scaler.fit_transform(num_cols_df),index=num_cols_df.index, columns=num_cols_df.columns)\n",
    "\n",
    "\n",
    "X_train, X_test, y_train, y_test = train_test_split(num_cols_df, y, test_size = 0.25, random_state = 123)"
   ]
  },
  {
   "cell_type": "code",
   "execution_count": 4,
   "metadata": {},
   "outputs": [
    {
     "name": "stdout",
     "output_type": "stream",
     "text": [
      "131    0.0\n",
      "203    0.0\n",
      "50     1.0\n",
      "585    0.0\n",
      "138    1.0\n",
      "      ... \n",
      "653    0.0\n",
      "11     0.0\n",
      "252    1.0\n",
      "521    1.0\n",
      "227    0.0\n",
      "Name: DELAYED, Length: 250, dtype: float64\n",
      "[0. 0. 0. 0. 0. 0. 1. 0. 0. 0. 0. 0. 0. 1. 0. 1. 0. 1. 0. 1. 1. 0. 0. 0.\n",
      " 0. 1. 0. 0. 1. 0. 0. 0. 0. 0. 1. 0. 1. 0. 0. 0. 1. 0. 0. 1. 1. 0. 0. 0.\n",
      " 0. 0. 0. 1. 0. 0. 1. 0. 1. 0. 0. 0. 1. 0. 0. 0. 0. 0. 0. 0. 0. 0. 1. 0.\n",
      " 1. 0. 1. 0. 0. 0. 0. 0. 0. 0. 1. 0. 0. 0. 1. 0. 0. 0. 0. 1. 1. 0. 0. 0.\n",
      " 1. 1. 1. 0. 1. 0. 1. 1. 1. 0. 0. 0. 0. 0. 1. 1. 1. 0. 0. 1. 0. 0. 0. 0.\n",
      " 1. 0. 0. 0. 0. 0. 1. 0. 0. 0. 0. 0. 0. 1. 0. 0. 0. 0. 1. 1. 1. 1. 0. 0.\n",
      " 0. 1. 0. 0. 0. 0. 0. 0. 1. 1. 1. 0. 1. 0. 1. 0. 0. 0. 0. 0. 0. 0. 1. 0.\n",
      " 0. 0. 0. 1. 1. 0. 0. 1. 0. 0. 0. 0. 0. 0. 0. 0. 1. 0. 0. 0. 0. 1. 1. 0.\n",
      " 0. 0. 1. 0. 0. 0. 0. 0. 0. 0. 1. 0. 1. 1. 0. 0. 0. 0. 0. 0. 1. 0. 1. 0.\n",
      " 1. 0. 1. 1. 1. 0. 1. 0. 0. 0. 0. 0. 0. 0. 0. 0. 0. 0. 0. 0. 0. 1. 0. 0.\n",
      " 0. 1. 0. 0. 0. 0. 0. 0. 1. 0.]\n",
      "0.9346666666666666\n",
      "0.796\n"
     ]
    }
   ],
   "source": [
    "clf_xgb = xgb.XGBClassifier()\n",
    "clf_xgb.fit(X_train, y_train)\n",
    "training_preds_xgb = clf_xgb.predict(X_train)\n",
    "test_preds_xgb = clf_xgb.predict(X_test)\n",
    "training_accuracy_xgb = accuracy_score(y_train, training_preds_xgb)\n",
    "test_accuracy_xgb = accuracy_score(y_test, test_preds_xgb)\n",
    "\n",
    "# default values for xgb\n",
    "\n",
    "print(y_test)\n",
    "print(test_preds_xgb)\n",
    "print(training_accuracy_xgb)\n",
    "print(test_accuracy_xgb)"
   ]
  },
  {
   "cell_type": "code",
   "execution_count": 5,
   "metadata": {},
   "outputs": [
    {
     "name": "stderr",
     "output_type": "stream",
     "text": [
      "/Users/stacyshingleton/opt/anaconda3/lib/python3.7/site-packages/sklearn/model_selection/_split.py:1978: FutureWarning: The default value of cv will change from 3 to 5 in version 0.22. Specify it explicitly to silence this warning.\n",
      "  warnings.warn(CV_WARNING, FutureWarning)\n"
     ]
    },
    {
     "name": "stdout",
     "output_type": "stream",
     "text": [
      "Grid seach found the following optimal parameters: \n",
      "learning_rate:0.1\n",
      "max_depth:6\n",
      "min_child_weight:1\n",
      "n_estimators:9\n",
      "subsample:1\n",
      "Training Accuracy:  0.8946666666666667\n",
      "Test Accuracy:  0.912\n",
      "131    0.0\n",
      "203    0.0\n",
      "50     1.0\n",
      "585    0.0\n",
      "138    1.0\n",
      "      ... \n",
      "653    0.0\n",
      "11     0.0\n",
      "252    1.0\n",
      "521    1.0\n",
      "227    0.0\n",
      "Name: DELAYED, Length: 250, dtype: float64\n",
      "[0. 0. 1. 0. 1. 0. 1. 0. 1. 0. 0. 0. 0. 0. 0. 1. 0. 1. 0. 1. 0. 0. 0. 0.\n",
      " 0. 1. 0. 0. 1. 0. 0. 0. 0. 0. 1. 0. 1. 0. 0. 0. 0. 0. 0. 1. 0. 0. 0. 0.\n",
      " 1. 0. 1. 1. 0. 0. 1. 0. 1. 1. 0. 0. 1. 0. 0. 0. 0. 0. 0. 1. 1. 1. 1. 0.\n",
      " 1. 0. 1. 0. 0. 0. 0. 1. 0. 0. 1. 0. 0. 0. 0. 0. 0. 0. 0. 1. 0. 1. 0. 0.\n",
      " 1. 1. 0. 0. 1. 0. 0. 1. 1. 1. 0. 0. 0. 0. 1. 1. 1. 0. 0. 0. 1. 0. 0. 0.\n",
      " 0. 0. 0. 0. 0. 0. 1. 0. 0. 0. 0. 0. 0. 1. 0. 0. 0. 0. 1. 1. 1. 0. 0. 0.\n",
      " 0. 0. 0. 0. 1. 0. 1. 0. 0. 0. 1. 0. 1. 0. 1. 0. 0. 0. 0. 0. 0. 0. 0. 0.\n",
      " 0. 0. 1. 1. 1. 0. 0. 1. 0. 0. 0. 0. 0. 0. 0. 0. 1. 0. 0. 0. 0. 1. 1. 0.\n",
      " 0. 0. 1. 0. 0. 0. 0. 0. 0. 0. 1. 0. 0. 0. 0. 0. 0. 0. 0. 0. 1. 0. 1. 0.\n",
      " 1. 0. 1. 0. 1. 1. 0. 0. 0. 0. 0. 0. 0. 0. 0. 0. 0. 1. 0. 0. 0. 1. 0. 0.\n",
      " 1. 1. 1. 0. 0. 0. 0. 0. 1. 0.]\n",
      "0.8946666666666667\n",
      "0.912\n"
     ]
    },
    {
     "name": "stderr",
     "output_type": "stream",
     "text": [
      "/Users/stacyshingleton/opt/anaconda3/lib/python3.7/site-packages/sklearn/model_selection/_search.py:814: DeprecationWarning: The default of the `iid` parameter will change from True to False in version 0.22 and will be removed in 0.24. This will change numeric results when test-set sizes are unequal.\n",
      "  DeprecationWarning)\n"
     ]
    }
   ],
   "source": [
    "# xgb with param grid\n",
    "\n",
    "xgb_param_grid = {'learning_rate':[0.1, 0.3], \n",
    "              'max_depth': [6], \n",
    "              'min_child_weight':[1], \n",
    "              'subsample':[1],\n",
    "              'n_estimators':[9,5,2]}\n",
    "\n",
    "xgb_grid_clf = GridSearchCV(clf_xgb, xgb_param_grid, scoring = 'accuracy', cv = None, n_jobs = 1)\n",
    "xgb_grid_clf.fit(num_cols_df, y)\n",
    "xgb_best_parameters = xgb_grid_clf.best_params_\n",
    "print('Grid seach found the following optimal parameters: ')\n",
    "for param_name in sorted(xgb_best_parameters.keys()):\n",
    "    print('%s:%r'%(param_name, xgb_best_parameters[param_name]))\n",
    "\n",
    "training_preds_xgb_grid = xgb_grid_clf.predict(X_train)\n",
    "test_preds_xgb_grid = xgb_grid_clf.predict(X_test)\n",
    "training_accuracy_xgb_grid = accuracy_score(y_train, training_preds_xgb_grid)\n",
    "test_accuracy_xgb_grid = accuracy_score(y_test, test_preds_xgb_grid)\n",
    "print('Training Accuracy: ', training_accuracy_xgb_grid)\n",
    "print('Test Accuracy: ', test_accuracy_xgb_grid)\n",
    "\n",
    "\n",
    "\n",
    "print(y_test)\n",
    "print(test_preds_xgb_grid)\n",
    "print(training_accuracy_xgb_grid)\n",
    "print(test_accuracy_xgb_grid)"
   ]
  },
  {
   "cell_type": "code",
   "execution_count": 6,
   "metadata": {},
   "outputs": [
    {
     "name": "stdout",
     "output_type": "stream",
     "text": [
      "Requirement already satisfied: lime in /Users/stacyshingleton/opt/anaconda3/lib/python3.7/site-packages (0.2.0.0)\n",
      "Requirement already satisfied: scikit-image>=0.12 in /Users/stacyshingleton/opt/anaconda3/lib/python3.7/site-packages (from lime) (0.15.0)\n",
      "Requirement already satisfied: pillow==5.4.1 in /Users/stacyshingleton/opt/anaconda3/lib/python3.7/site-packages (from lime) (5.4.1)\n",
      "Requirement already satisfied: matplotlib in /Users/stacyshingleton/opt/anaconda3/lib/python3.7/site-packages (from lime) (3.1.1)\n",
      "Requirement already satisfied: scikit-learn>=0.18 in /Users/stacyshingleton/opt/anaconda3/lib/python3.7/site-packages (from lime) (0.21.3)\n",
      "Requirement already satisfied: tqdm in /Users/stacyshingleton/opt/anaconda3/lib/python3.7/site-packages (from lime) (4.36.1)\n",
      "Requirement already satisfied: numpy in /Users/stacyshingleton/opt/anaconda3/lib/python3.7/site-packages (from lime) (1.17.2)\n",
      "Requirement already satisfied: scipy in /Users/stacyshingleton/opt/anaconda3/lib/python3.7/site-packages (from lime) (1.3.1)\n",
      "Requirement already satisfied: imageio>=2.0.1 in /Users/stacyshingleton/opt/anaconda3/lib/python3.7/site-packages (from scikit-image>=0.12->lime) (2.6.0)\n",
      "Requirement already satisfied: PyWavelets>=0.4.0 in /Users/stacyshingleton/opt/anaconda3/lib/python3.7/site-packages (from scikit-image>=0.12->lime) (1.0.3)\n",
      "Requirement already satisfied: networkx>=2.0 in /Users/stacyshingleton/opt/anaconda3/lib/python3.7/site-packages (from scikit-image>=0.12->lime) (2.3)\n",
      "Requirement already satisfied: cycler>=0.10 in /Users/stacyshingleton/opt/anaconda3/lib/python3.7/site-packages (from matplotlib->lime) (0.10.0)\n",
      "Requirement already satisfied: kiwisolver>=1.0.1 in /Users/stacyshingleton/opt/anaconda3/lib/python3.7/site-packages (from matplotlib->lime) (1.1.0)\n",
      "Requirement already satisfied: pyparsing!=2.0.4,!=2.1.2,!=2.1.6,>=2.0.1 in /Users/stacyshingleton/opt/anaconda3/lib/python3.7/site-packages (from matplotlib->lime) (2.4.2)\n",
      "Requirement already satisfied: python-dateutil>=2.1 in /Users/stacyshingleton/opt/anaconda3/lib/python3.7/site-packages (from matplotlib->lime) (2.8.0)\n",
      "Requirement already satisfied: joblib>=0.11 in /Users/stacyshingleton/opt/anaconda3/lib/python3.7/site-packages (from scikit-learn>=0.18->lime) (0.13.2)\n",
      "Requirement already satisfied: decorator>=4.3.0 in /Users/stacyshingleton/opt/anaconda3/lib/python3.7/site-packages (from networkx>=2.0->scikit-image>=0.12->lime) (4.4.0)\n",
      "Requirement already satisfied: six in /Users/stacyshingleton/opt/anaconda3/lib/python3.7/site-packages (from cycler>=0.10->matplotlib->lime) (1.12.0)\n",
      "Requirement already satisfied: setuptools in /Users/stacyshingleton/opt/anaconda3/lib/python3.7/site-packages (from kiwisolver>=1.0.1->matplotlib->lime) (41.4.0)\n",
      "Note: you may need to restart the kernel to use updated packages.\n"
     ]
    }
   ],
   "source": [
    "pip install lime "
   ]
  },
  {
   "cell_type": "code",
   "execution_count": null,
   "metadata": {},
   "outputs": [],
   "source": [
    "from lime import lime_text\n",
    "from sklearn.pipeline import make_pipeline\n",
    "c = make_pipeline(vectorizer, xgb_grid_clf)\n",
    "\n",
    "print(c.predict_proba([X_test.num_cols_df[0]]))\n"
   ]
  }
 ],
 "metadata": {
  "kernelspec": {
   "display_name": "Python 3",
   "language": "python",
   "name": "python3"
  },
  "language_info": {
   "codemirror_mode": {
    "name": "ipython",
    "version": 3
   },
   "file_extension": ".py",
   "mimetype": "text/x-python",
   "name": "python",
   "nbconvert_exporter": "python",
   "pygments_lexer": "ipython3",
   "version": "3.7.4"
  }
 },
 "nbformat": 4,
 "nbformat_minor": 2
}
